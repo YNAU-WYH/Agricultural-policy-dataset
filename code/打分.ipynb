{
 "cells": [
  {
   "cell_type": "code",
   "execution_count": 5,
   "id": "be6546e3",
   "metadata": {},
   "outputs": [],
   "source": [
    "import os\n",
    "import openpyxl\n",
    "import jieba\n",
    "\n",
    "# 读取语料库强度.xlsx文件\n",
    "corpus_path = \"./中央一号文件/语料库强度.xlsx\"\n",
    "corpus_wb = openpyxl.load_workbook(corpus_path)\n",
    "corpus_ws = corpus_wb.active\n",
    "corpus_dict = {}\n",
    "for row in corpus_ws.iter_rows(min_row=2):\n",
    "    corpus_dict[row[0].value] = row[1].value\n",
    "\n",
    "# 遍历所有txt文件\n",
    "folder_path = \"./中国农业科学院\"\n",
    "output_path = os.path.join(folder_path, \"中国农科院文件分数汇集.xlsx\")\n",
    "output_wb = openpyxl.Workbook()\n",
    "output_ws = output_wb.active\n",
    "output_ws.append([\"年份\", \"标题\", \"分数\"])\n",
    "\n",
    "for file_name in os.listdir(folder_path):\n",
    "    if file_name.endswith(\".txt\"):\n",
    "        # 获取年份和标题\n",
    "        year = file_name[:8]\n",
    "        title = file_name[8:-4]\n",
    "        file_path = os.path.join(folder_path, file_name)\n",
    "\n",
    "        # 读取txt文件内容并进行分词\n",
    "        with open(file_path, \"r\", encoding=\"utf-8\") as f:\n",
    "            content = f.read()\n",
    "        words = jieba.cut(content)\n",
    "\n",
    "        # 计算分数\n",
    "        score = 0\n",
    "        for word in words:\n",
    "            if word in corpus_dict:\n",
    "                score += corpus_dict[word]\n",
    "\n",
    "        # 将年份、标题和分数写入xlsx文件\n",
    "        output_ws.append([year, title, score])\n",
    "\n",
    "output_wb.save(output_path)\n"
   ]
  },
  {
   "cell_type": "code",
   "execution_count": null,
   "id": "a6117507",
   "metadata": {},
   "outputs": [],
   "source": []
  }
 ],
 "metadata": {
  "kernelspec": {
   "display_name": "Python 3 (ipykernel)",
   "language": "python",
   "name": "python3"
  },
  "language_info": {
   "codemirror_mode": {
    "name": "ipython",
    "version": 3
   },
   "file_extension": ".py",
   "mimetype": "text/x-python",
   "name": "python",
   "nbconvert_exporter": "python",
   "pygments_lexer": "ipython3",
   "version": "3.7.13"
  }
 },
 "nbformat": 4,
 "nbformat_minor": 5
}
